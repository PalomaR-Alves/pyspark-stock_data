{
 "cells": [
  {
   "cell_type": "markdown",
   "id": "0abf46d4-6259-4632-a0fa-1a531ceb3596",
   "metadata": {},
   "source": [
    "# Processamento"
   ]
  },
  {
   "cell_type": "code",
   "execution_count": 2,
   "id": "e5b59c94-0193-4d73-92da-74184dd4a7cb",
   "metadata": {},
   "outputs": [],
   "source": [
    "import pyspark\n",
    "from pyspark.sql import SparkSession"
   ]
  },
  {
   "cell_type": "code",
   "execution_count": 3,
   "id": "e387f688-2aff-4734-b9f0-4402352151b9",
   "metadata": {},
   "outputs": [],
   "source": [
    "spark = SparkSession.builder.appName(\"Stock Price Analysis\").getOrCreate()"
   ]
  },
  {
   "cell_type": "code",
   "execution_count": 4,
   "id": "076ce145-9b54-4bc1-acd8-f6edafff85b4",
   "metadata": {},
   "outputs": [],
   "source": [
    "stocks = spark.read.csv(\"StockData\", header=True)"
   ]
  },
  {
   "cell_type": "code",
   "execution_count": 5,
   "id": "d5d76a85-3a94-4ce7-ad19-8c053b995266",
   "metadata": {},
   "outputs": [
    {
     "name": "stdout",
     "output_type": "stream",
     "text": [
      "+------+----------+----------+-------+--------+--------+--------+\n",
      "|Ticker|      Date|Close/Last| Volume|    Open|    High|     Low|\n",
      "+------+----------+----------+-------+--------+--------+--------+\n",
      "| BRK-B|05/31/2023|  $321.08 |6175417|$321.12 |$322.41 |$319.39 |\n",
      "| BRK-B|05/30/2023|  $322.19 |3232461|$321.86 |$322.47 |$319.00 |\n",
      "| BRK-B|05/26/2023|  $320.60 |3229873|$320.44 |$322.63 |$319.67 |\n",
      "| BRK-B|05/25/2023|  $319.02 |4251935|$320.56 |$320.56 |$317.71 |\n",
      "| BRK-B|05/24/2023|  $320.20 |3075393|$322.71 |$323.00 |$319.56 |\n",
      "+------+----------+----------+-------+--------+--------+--------+\n",
      "only showing top 5 rows\n",
      "\n"
     ]
    }
   ],
   "source": [
    "stocks.show(5)"
   ]
  },
  {
   "cell_type": "code",
   "execution_count": 8,
   "id": "e7e75d8c-ebbd-48d1-872b-5a01db5d7e35",
   "metadata": {},
   "outputs": [
    {
     "name": "stdout",
     "output_type": "stream",
     "text": [
      "root\n",
      " |-- Ticker: string (nullable = true)\n",
      " |-- Date: string (nullable = true)\n",
      " |-- Close/Last: string (nullable = true)\n",
      " |-- Volume: string (nullable = true)\n",
      " |-- Open: string (nullable = true)\n",
      " |-- High: string (nullable = true)\n",
      " |-- Low: string (nullable = true)\n",
      "\n"
     ]
    }
   ],
   "source": [
    "stocks.printSchema() # colunas e seus tipos de dados"
   ]
  },
  {
   "cell_type": "code",
   "execution_count": null,
   "id": "837b27e0-281b-4e44-bbd5-8961ec5f84d8",
   "metadata": {},
   "outputs": [],
   "source": [
    "stocks.select(\"Ticker\").show(3) # select coluna Ticker"
   ]
  },
  {
   "cell_type": "code",
   "execution_count": 10,
   "id": "d3dc694e-c759-42ad-8da2-ecac7f3b9526",
   "metadata": {},
   "outputs": [
    {
     "name": "stdout",
     "output_type": "stream",
     "text": [
      "+------+----------+--------+\n",
      "|Ticker|      Date|    Open|\n",
      "+------+----------+--------+\n",
      "| BRK-B|05/31/2023|$321.12 |\n",
      "| BRK-B|05/30/2023|$321.86 |\n",
      "| BRK-B|05/26/2023|$320.44 |\n",
      "| BRK-B|05/25/2023|$320.56 |\n",
      "| BRK-B|05/24/2023|$322.71 |\n",
      "+------+----------+--------+\n",
      "only showing top 5 rows\n",
      "\n"
     ]
    }
   ],
   "source": [
    "stocks.select([\"Ticker\", \"Date\", \"Open\"]).show(5) # select várias colunas do dataframe"
   ]
  },
  {
   "cell_type": "code",
   "execution_count": 13,
   "id": "1544f4ef-5369-4866-868c-8e26895e5a6c",
   "metadata": {},
   "outputs": [
    {
     "name": "stdout",
     "output_type": "stream",
     "text": [
      "+------+----------+----------+--------+--------+--------+--------+\n",
      "|Ticker|      Date|Close/Last|  Volume|    Open|    High|     Low|\n",
      "+------+----------+----------+--------+--------+--------+--------+\n",
      "|  MSFT|05/31/2023|  $328.39 |45950550|$332.29 |$335.94 |$327.33 |\n",
      "+------+----------+----------+--------+--------+--------+--------+\n",
      "\n"
     ]
    }
   ],
   "source": [
    "# Filtragem: selecionar linhas contendo stock da Microsoft (MSFT) no mês selecionado\n",
    "stocks.filter((stocks.Ticker == \"MSFT\") & (stocks.Date == \"05/31/2023\")).show(10)"
   ]
  },
  {
   "cell_type": "code",
   "execution_count": 18,
   "id": "95ca84ca-597c-43a8-bbdf-11e26582fe34",
   "metadata": {},
   "outputs": [
    {
     "name": "stdout",
     "output_type": "stream",
     "text": [
      "+------+----+----------+------+----+----+---+\n",
      "|Ticker|Date|Close/Last|Volume|Open|High|Low|\n",
      "+------+----+----------+------+----+----+---+\n",
      "+------+----+----------+------+----+----+---+\n",
      "\n"
     ]
    }
   ],
   "source": [
    "# selecionar linhas de dois tickers diferentes na data selecionada\n",
    "# ñ funciona com & no lugar do | pois é como se quiséssemos que o valor fosse MSFT e V ao mesmo tempo,\n",
    "# o que é impossível\n",
    "stocks.filter(((stocks.Ticker == \"MSFT\") | (stocks.Ticker == \"V\")) & (stocks.Date == \"05/31/2023\")).show(10)"
   ]
  },
  {
   "cell_type": "code",
   "execution_count": 19,
   "id": "dc64c545-ac19-49a3-943a-4e1acfff73d9",
   "metadata": {},
   "outputs": [
    {
     "name": "stdout",
     "output_type": "stream",
     "text": [
      "+------+----------+----------+---------+--------+--------+--------+\n",
      "|Ticker|      Date|Close/Last|   Volume|    Open|    High|     Low|\n",
      "+------+----------+----------+---------+--------+--------+--------+\n",
      "|  MSFT|05/31/2023|  $328.39 | 45950550|$332.29 |$335.94 |$327.33 |\n",
      "|  TSLA|05/31/2023|  $203.93 |150711700|$199.78 |$203.95 |$195.12 |\n",
      "|     V|05/31/2023|  $221.03 | 20460620|$219.96 |$221.53 |$216.14 |\n",
      "|   SPY|05/31/2023|    417.85|110811800|  418.28|  419.22|  416.22|\n",
      "|   QQQ|05/31/2023|    347.99| 65105380|  348.37|   350.6|  346.51|\n",
      "+------+----------+----------+---------+--------+--------+--------+\n",
      "\n"
     ]
    }
   ],
   "source": [
    "# Ticker possui um dos 5 valores e a data selecionada\n",
    "stocks.filter((stocks.Ticker.isin([\"MSFT\", \"QQQ\", \"SPY\", \"V\", \"TSLA\"])) & (stocks.Date == \"05/31/2023\")).show(10)"
   ]
  },
  {
   "cell_type": "code",
   "execution_count": 20,
   "id": "fc9efe55-116c-47fd-ac0b-c1f6ac38ac75",
   "metadata": {},
   "outputs": [],
   "source": [
    "# Usando UDFs: User Defined Functions\n",
    "from pyspark.sql.functions import udf\n",
    "from pyspark.sql.types import DateType\n",
    "from datetime import datetime\n",
    "\n",
    "# cria função date_parser que converte as datas de string pra date\n",
    "# na udf: arg1= a função em si (nesse caso uma lambda), arg2= tipo de dado que ela deve retornar\n",
    "date_parser = udf(lambda date : datetime.strptime(date, \"%m/%d/%Y\"), DateType())\n",
    "# basicamente a função lambda nos devolve valores em datetime, mas como o retorno definido na udf()\n",
    "# é DateType ela vai converter de datetime pra DateType. Assim, date_parser recebe strings e retorna DateType."
   ]
  },
  {
   "cell_type": "code",
   "execution_count": 23,
   "id": "b55dae6b-df76-4d35-9996-4dc007e351d5",
   "metadata": {},
   "outputs": [
    {
     "name": "stdout",
     "output_type": "stream",
     "text": [
      "+------+----------+----------+-------+--------+--------+--------+----------+\n",
      "|Ticker|      Date|Close/Last| Volume|    Open|    High|     Low|ParsedDate|\n",
      "+------+----------+----------+-------+--------+--------+--------+----------+\n",
      "| BRK-B|05/31/2023|  $321.08 |6175417|$321.12 |$322.41 |$319.39 |2023-05-31|\n",
      "| BRK-B|05/30/2023|  $322.19 |3232461|$321.86 |$322.47 |$319.00 |2023-05-30|\n",
      "| BRK-B|05/26/2023|  $320.60 |3229873|$320.44 |$322.63 |$319.67 |2023-05-26|\n",
      "| BRK-B|05/25/2023|  $319.02 |4251935|$320.56 |$320.56 |$317.71 |2023-05-25|\n",
      "| BRK-B|05/24/2023|  $320.20 |3075393|$322.71 |$323.00 |$319.56 |2023-05-24|\n",
      "+------+----------+----------+-------+--------+--------+--------+----------+\n",
      "only showing top 5 rows\n",
      "\n"
     ]
    }
   ],
   "source": [
    "# aplicando a função\n",
    "# a função lambda é aplicada em cada linha da coluna Date\n",
    "stocks = stocks.withColumn(\"ParsedDate\", date_parser(stocks.Date))\n",
    "stocks.show(5)"
   ]
  },
  {
   "cell_type": "code",
   "execution_count": null,
   "id": "d6ac2561-247f-47e4-a048-c4021cd43d1b",
   "metadata": {},
   "outputs": [],
   "source": [
    "stocks.printSchema()"
   ]
  },
  {
   "cell_type": "code",
   "execution_count": 29,
   "id": "9b9b4fc8-4633-415d-bb6f-caaf031596d6",
   "metadata": {},
   "outputs": [
    {
     "name": "stdout",
     "output_type": "stream",
     "text": [
      "456\n"
     ]
    }
   ],
   "source": [
    "# Função pra remover cifrão $\n",
    "def num_parser(value):\n",
    "    if isinstance(value, str):\n",
    "        return float(value.strip(\"$\"))\n",
    "    elif isinstance(value, int) or isinstance(value, float):\n",
    "        return value\n",
    "    else:\n",
    "        return None\n",
    "\n",
    "# teste\n",
    "print(num_parser(\"$456.89\"))"
   ]
  },
  {
   "cell_type": "code",
   "execution_count": 34,
   "id": "8b5402aa-9b90-47ef-82ac-46156d0e9e83",
   "metadata": {},
   "outputs": [
    {
     "name": "stdout",
     "output_type": "stream",
     "text": [
      "+------+----------+----------+-------+------+------+------+----------+------+\n",
      "|Ticker|      Date|Close/Last| Volume|  Open|  High|   Low|ParsedDate| Close|\n",
      "+------+----------+----------+-------+------+------+------+----------+------+\n",
      "| BRK-B|05/31/2023|  $321.08 |6175417|321.12|322.41|319.39|2023-05-31|321.08|\n",
      "| BRK-B|05/30/2023|  $322.19 |3232461|321.86|322.47| 319.0|2023-05-30|322.19|\n",
      "| BRK-B|05/26/2023|  $320.60 |3229873|320.44|322.63|319.67|2023-05-26| 320.6|\n",
      "| BRK-B|05/25/2023|  $319.02 |4251935|320.56|320.56|317.71|2023-05-25|319.02|\n",
      "| BRK-B|05/24/2023|  $320.20 |3075393|322.71| 323.0|319.56|2023-05-24| 320.2|\n",
      "| BRK-B|05/23/2023|  $323.11 |4031342|328.19|329.27|322.97|2023-05-23|323.11|\n",
      "| BRK-B|05/22/2023|  $329.13 |2763422|330.75|331.49|328.35|2023-05-22|329.13|\n",
      "| BRK-B|05/19/2023|  $330.39 |4323538| 331.0|333.94|329.12|2023-05-19|330.39|\n",
      "| BRK-B|05/18/2023|  $329.76 |2808329|326.87|329.98|325.85|2023-05-18|329.76|\n",
      "| BRK-B|05/17/2023|  $327.39 |3047626|325.02|328.26|324.82|2023-05-17|327.39|\n",
      "+------+----------+----------+-------+------+------+------+----------+------+\n",
      "only showing top 10 rows\n",
      "\n"
     ]
    }
   ],
   "source": [
    "from pyspark.sql.types import FloatType\n",
    "\n",
    "# é possível transformar em udf uma função puramente pythônica\n",
    "number_parser = udf(num_parser, FloatType())\n",
    "\n",
    "stocks = (stocks.withColumn(\"Open\", number_parser(stocks.Open))\n",
    "                .withColumn(\"Close\", number_parser(stocks[\"Close/Last\"]))\n",
    "                .withColumn(\"High\", number_parser(stocks.High))\n",
    "                .withColumn(\"Low\", number_parser(stocks.Low)))\n",
    "\n",
    "# Close/Last foi selecionada de forma diferente pois a sintaxe ñ deixa dar stocks.Close/Last\n",
    "\n",
    "stocks.show(10)"
   ]
  },
  {
   "cell_type": "code",
   "execution_count": 37,
   "id": "ab226951-b5cd-4e76-a2b7-6d5160ed619d",
   "metadata": {},
   "outputs": [
    {
     "name": "stdout",
     "output_type": "stream",
     "text": [
      "root\n",
      " |-- Ticker: string (nullable = true)\n",
      " |-- Date: string (nullable = true)\n",
      " |-- Close/Last: string (nullable = true)\n",
      " |-- Volume: string (nullable = true)\n",
      " |-- Open: float (nullable = true)\n",
      " |-- High: float (nullable = true)\n",
      " |-- Low: float (nullable = true)\n",
      " |-- ParsedDate: date (nullable = true)\n",
      " |-- Close: float (nullable = true)\n",
      "\n"
     ]
    }
   ],
   "source": [
    "stocks.printSchema()\n",
    "\n",
    "from pyspark.sql.types import IntegerType\n",
    "\n",
    "# UDF pra converter Volume pra inteiro\n",
    "integer_parser = udf(lambda num : int(num), IntegerType())"
   ]
  },
  {
   "cell_type": "code",
   "execution_count": 39,
   "id": "9bc4c512-4591-4d1b-9fc1-72c32725bda0",
   "metadata": {},
   "outputs": [
    {
     "name": "stdout",
     "output_type": "stream",
     "text": [
      "root\n",
      " |-- Ticker: string (nullable = true)\n",
      " |-- Date: string (nullable = true)\n",
      " |-- Close/Last: string (nullable = true)\n",
      " |-- Volume: integer (nullable = true)\n",
      " |-- Open: float (nullable = true)\n",
      " |-- High: float (nullable = true)\n",
      " |-- Low: float (nullable = true)\n",
      " |-- ParsedDate: date (nullable = true)\n",
      " |-- Close: float (nullable = true)\n",
      "\n"
     ]
    }
   ],
   "source": [
    "# convertendo pra int\n",
    "stocks = stocks.withColumn(\"Volume\", integer_parser(stocks.Volume))\n",
    "stocks.printSchema(5)"
   ]
  },
  {
   "cell_type": "code",
   "execution_count": 40,
   "id": "15ab2273-4053-4387-bd5d-75331e48245e",
   "metadata": {},
   "outputs": [
    {
     "name": "stdout",
     "output_type": "stream",
     "text": [
      "+------+----------+------+-------+------+------+------+\n",
      "|Ticker|ParsedDate| Close| Volume|  Open|  High|   Low|\n",
      "+------+----------+------+-------+------+------+------+\n",
      "| BRK-B|2023-05-31|321.08|6175417|321.12|322.41|319.39|\n",
      "| BRK-B|2023-05-30|322.19|3232461|321.86|322.47| 319.0|\n",
      "| BRK-B|2023-05-26| 320.6|3229873|320.44|322.63|319.67|\n",
      "| BRK-B|2023-05-25|319.02|4251935|320.56|320.56|317.71|\n",
      "| BRK-B|2023-05-24| 320.2|3075393|322.71| 323.0|319.56|\n",
      "+------+----------+------+-------+------+------+------+\n",
      "only showing top 5 rows\n",
      "\n"
     ]
    }
   ],
   "source": [
    "# removendo colunas Date e Close/Last\n",
    "stocks = stocks.select([\"Ticker\", \"ParsedDate\", \"Close\", \"Volume\", \"Open\", \"High\", \"Low\"])\n",
    "stocks.show(5)"
   ]
  },
  {
   "cell_type": "code",
   "execution_count": 42,
   "id": "83a1ab97-49d2-4ad2-9a47-644e8070c3a3",
   "metadata": {},
   "outputs": [
    {
     "name": "stdout",
     "output_type": "stream",
     "text": [
      "+-------+------------------+--------------------+------------------+------------------+------------------+\n",
      "|summary|             Close|              Volume|              Open|              High|               Low|\n",
      "+-------+------------------+--------------------+------------------+------------------+------------------+\n",
      "|  count|             15108|               15108|             15108|             15108|             15108|\n",
      "|   mean| 180.1256089860054|5.1868408793685466E7|180.09656566181036| 182.1253348687101| 177.9982781513109|\n",
      "| stddev|101.14891782168563| 5.496484129953464E7|101.16125813324399|101.96625521621753|100.26590135955216|\n",
      "|    min|             11.93|              961133|             12.07|             12.45|              11.8|\n",
      "|    max|            477.71|           914080943|            479.22|            479.98|            476.06|\n",
      "+-------+------------------+--------------------+------------------+------------------+------------------+\n",
      "\n"
     ]
    }
   ],
   "source": [
    "# Estatísticas básicas sobre os dados\n",
    "stocks.describe([\"Close\", \"Volume\", \"Open\", \"High\", \"Low\"]).show()"
   ]
  },
  {
   "cell_type": "markdown",
   "id": "2d2761c8-320b-4bea-89e4-9b6e3360768c",
   "metadata": {},
   "source": [
    "# Análise\n",
    "\n",
    "#### Estrutura dos Dados\n",
    "\n",
    "- *Ticker:* abreviação usada na bolsa para representa uma empresa\n",
    "- *Date:* data de registro dos dados, cada dia é um dia de negociação na bolsa\n",
    "- *Close:* último preço da ação no final do dia de negociação (é o valor que vemos falar quando dizem que \"A ação da empresa X fechou hoje em tanto\")\n",
    "- *Volume:* quantidade de ações que foram compradas e vendidas no dia\n",
    "- *Open:* primeiro preço da ação na abertura do mercado daquele dia\n",
    "- *High:* maior preço atingido pela ação no dia\n",
    "- *Low:* menor preço atingido pela ação no dia"
   ]
  },
  {
   "cell_type": "code",
   "execution_count": null,
   "id": "7e78aeb7-16f6-4442-8e1b-d64795154cc4",
   "metadata": {},
   "outputs": [],
   "source": [
    "# Calcular preço máximo de estoque entre vários estoques\n",
    "stocks."
   ]
  }
 ],
 "metadata": {
  "kernelspec": {
   "display_name": "Python 3 (ipykernel)",
   "language": "python",
   "name": "python3"
  },
  "language_info": {
   "codemirror_mode": {
    "name": "ipython",
    "version": 3
   },
   "file_extension": ".py",
   "mimetype": "text/x-python",
   "name": "python",
   "nbconvert_exporter": "python",
   "pygments_lexer": "ipython3",
   "version": "3.11.6"
  }
 },
 "nbformat": 4,
 "nbformat_minor": 5
}
