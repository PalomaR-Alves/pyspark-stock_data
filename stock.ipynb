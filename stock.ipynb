{
 "cells": [
  {
   "cell_type": "markdown",
   "id": "0abf46d4-6259-4632-a0fa-1a531ceb3596",
   "metadata": {},
   "source": [
    "# Processamento"
   ]
  },
  {
   "cell_type": "code",
   "execution_count": 2,
   "id": "e5b59c94-0193-4d73-92da-74184dd4a7cb",
   "metadata": {},
   "outputs": [],
   "source": [
    "import pyspark\n",
    "from pyspark.sql import SparkSession"
   ]
  },
  {
   "cell_type": "code",
   "execution_count": 3,
   "id": "e387f688-2aff-4734-b9f0-4402352151b9",
   "metadata": {},
   "outputs": [],
   "source": [
    "spark = SparkSession.builder.appName(\"Stock Price Analysis\").getOrCreate()"
   ]
  },
  {
   "cell_type": "code",
   "execution_count": 4,
   "id": "076ce145-9b54-4bc1-acd8-f6edafff85b4",
   "metadata": {},
   "outputs": [],
   "source": [
    "stocks = spark.read.csv(\"StockData\", header=True)"
   ]
  },
  {
   "cell_type": "code",
   "execution_count": 5,
   "id": "d5d76a85-3a94-4ce7-ad19-8c053b995266",
   "metadata": {},
   "outputs": [
    {
     "name": "stdout",
     "output_type": "stream",
     "text": [
      "+------+----------+----------+-------+--------+--------+--------+\n",
      "|Ticker|      Date|Close/Last| Volume|    Open|    High|     Low|\n",
      "+------+----------+----------+-------+--------+--------+--------+\n",
      "| BRK-B|05/31/2023|  $321.08 |6175417|$321.12 |$322.41 |$319.39 |\n",
      "| BRK-B|05/30/2023|  $322.19 |3232461|$321.86 |$322.47 |$319.00 |\n",
      "| BRK-B|05/26/2023|  $320.60 |3229873|$320.44 |$322.63 |$319.67 |\n",
      "| BRK-B|05/25/2023|  $319.02 |4251935|$320.56 |$320.56 |$317.71 |\n",
      "| BRK-B|05/24/2023|  $320.20 |3075393|$322.71 |$323.00 |$319.56 |\n",
      "+------+----------+----------+-------+--------+--------+--------+\n",
      "only showing top 5 rows\n",
      "\n"
     ]
    }
   ],
   "source": [
    "stocks.show(5)"
   ]
  },
  {
   "cell_type": "code",
   "execution_count": 6,
   "id": "e7e75d8c-ebbd-48d1-872b-5a01db5d7e35",
   "metadata": {},
   "outputs": [
    {
     "name": "stdout",
     "output_type": "stream",
     "text": [
      "root\n",
      " |-- Ticker: string (nullable = true)\n",
      " |-- Date: string (nullable = true)\n",
      " |-- Close/Last: string (nullable = true)\n",
      " |-- Volume: string (nullable = true)\n",
      " |-- Open: string (nullable = true)\n",
      " |-- High: string (nullable = true)\n",
      " |-- Low: string (nullable = true)\n",
      "\n"
     ]
    }
   ],
   "source": [
    "stocks.printSchema() # colunas e seus tipos de dados"
   ]
  },
  {
   "cell_type": "code",
   "execution_count": 7,
   "id": "837b27e0-281b-4e44-bbd5-8961ec5f84d8",
   "metadata": {},
   "outputs": [
    {
     "name": "stdout",
     "output_type": "stream",
     "text": [
      "+------+\n",
      "|Ticker|\n",
      "+------+\n",
      "| BRK-B|\n",
      "| BRK-B|\n",
      "| BRK-B|\n",
      "+------+\n",
      "only showing top 3 rows\n",
      "\n"
     ]
    }
   ],
   "source": [
    "stocks.select(\"Ticker\").show(3) # select coluna Ticker"
   ]
  },
  {
   "cell_type": "code",
   "execution_count": 8,
   "id": "d3dc694e-c759-42ad-8da2-ecac7f3b9526",
   "metadata": {},
   "outputs": [
    {
     "name": "stdout",
     "output_type": "stream",
     "text": [
      "+------+----------+--------+\n",
      "|Ticker|      Date|    Open|\n",
      "+------+----------+--------+\n",
      "| BRK-B|05/31/2023|$321.12 |\n",
      "| BRK-B|05/30/2023|$321.86 |\n",
      "| BRK-B|05/26/2023|$320.44 |\n",
      "| BRK-B|05/25/2023|$320.56 |\n",
      "| BRK-B|05/24/2023|$322.71 |\n",
      "+------+----------+--------+\n",
      "only showing top 5 rows\n",
      "\n"
     ]
    }
   ],
   "source": [
    "stocks.select([\"Ticker\", \"Date\", \"Open\"]).show(5) # select várias colunas do dataframe"
   ]
  },
  {
   "cell_type": "code",
   "execution_count": 9,
   "id": "1544f4ef-5369-4866-868c-8e26895e5a6c",
   "metadata": {},
   "outputs": [
    {
     "name": "stdout",
     "output_type": "stream",
     "text": [
      "+------+----------+----------+--------+--------+--------+--------+\n",
      "|Ticker|      Date|Close/Last|  Volume|    Open|    High|     Low|\n",
      "+------+----------+----------+--------+--------+--------+--------+\n",
      "|  MSFT|05/31/2023|  $328.39 |45950550|$332.29 |$335.94 |$327.33 |\n",
      "+------+----------+----------+--------+--------+--------+--------+\n",
      "\n"
     ]
    }
   ],
   "source": [
    "# Filtragem: selecionar linhas contendo stock da Microsoft (MSFT) no mês selecionado\n",
    "stocks.filter((stocks.Ticker == \"MSFT\") & (stocks.Date == \"05/31/2023\")).show(10)"
   ]
  },
  {
   "cell_type": "code",
   "execution_count": 10,
   "id": "95ca84ca-597c-43a8-bbdf-11e26582fe34",
   "metadata": {},
   "outputs": [
    {
     "name": "stdout",
     "output_type": "stream",
     "text": [
      "+------+----------+----------+--------+--------+--------+--------+\n",
      "|Ticker|      Date|Close/Last|  Volume|    Open|    High|     Low|\n",
      "+------+----------+----------+--------+--------+--------+--------+\n",
      "|  MSFT|05/31/2023|  $328.39 |45950550|$332.29 |$335.94 |$327.33 |\n",
      "|     V|05/31/2023|  $221.03 |20460620|$219.96 |$221.53 |$216.14 |\n",
      "+------+----------+----------+--------+--------+--------+--------+\n",
      "\n"
     ]
    }
   ],
   "source": [
    "# selecionar linhas de dois tickers diferentes na data selecionada\n",
    "# ñ funciona com & no lugar do | pois é como se quiséssemos que o valor fosse MSFT e V ao mesmo tempo,\n",
    "# o que é impossível\n",
    "stocks.filter(((stocks.Ticker == \"MSFT\") | (stocks.Ticker == \"V\")) & (stocks.Date == \"05/31/2023\")).show(10)"
   ]
  },
  {
   "cell_type": "code",
   "execution_count": 11,
   "id": "dc64c545-ac19-49a3-943a-4e1acfff73d9",
   "metadata": {},
   "outputs": [
    {
     "name": "stdout",
     "output_type": "stream",
     "text": [
      "+------+----------+----------+---------+--------+--------+--------+\n",
      "|Ticker|      Date|Close/Last|   Volume|    Open|    High|     Low|\n",
      "+------+----------+----------+---------+--------+--------+--------+\n",
      "|  MSFT|05/31/2023|  $328.39 | 45950550|$332.29 |$335.94 |$327.33 |\n",
      "|  TSLA|05/31/2023|  $203.93 |150711700|$199.78 |$203.95 |$195.12 |\n",
      "|     V|05/31/2023|  $221.03 | 20460620|$219.96 |$221.53 |$216.14 |\n",
      "|   SPY|05/31/2023|    417.85|110811800|  418.28|  419.22|  416.22|\n",
      "|   QQQ|05/31/2023|    347.99| 65105380|  348.37|   350.6|  346.51|\n",
      "+------+----------+----------+---------+--------+--------+--------+\n",
      "\n"
     ]
    }
   ],
   "source": [
    "# Ticker possui um dos 5 valores e a data selecionada\n",
    "stocks.filter((stocks.Ticker.isin([\"MSFT\", \"QQQ\", \"SPY\", \"V\", \"TSLA\"])) & (stocks.Date == \"05/31/2023\")).show(10)"
   ]
  },
  {
   "cell_type": "code",
   "execution_count": 12,
   "id": "fc9efe55-116c-47fd-ac0b-c1f6ac38ac75",
   "metadata": {},
   "outputs": [],
   "source": [
    "# Usando UDFs: User Defined Functions\n",
    "from pyspark.sql.functions import udf\n",
    "from pyspark.sql.types import DateType\n",
    "from datetime import datetime\n",
    "\n",
    "# cria função date_parser que converte as datas de string pra date\n",
    "# na udf: arg1= a função em si (nesse caso uma lambda), arg2= tipo de dado que ela deve retornar\n",
    "date_parser = udf(lambda date : datetime.strptime(date, \"%m/%d/%Y\"), DateType())\n",
    "# basicamente a função lambda nos devolve valores em datetime, mas como o retorno definido na udf()\n",
    "# é DateType ela vai converter de datetime pra DateType. Assim, date_parser recebe strings e retorna DateType."
   ]
  },
  {
   "cell_type": "code",
   "execution_count": 13,
   "id": "b55dae6b-df76-4d35-9996-4dc007e351d5",
   "metadata": {},
   "outputs": [
    {
     "name": "stdout",
     "output_type": "stream",
     "text": [
      "+------+----------+----------+-------+--------+--------+--------+----------+\n",
      "|Ticker|      Date|Close/Last| Volume|    Open|    High|     Low|ParsedDate|\n",
      "+------+----------+----------+-------+--------+--------+--------+----------+\n",
      "| BRK-B|05/31/2023|  $321.08 |6175417|$321.12 |$322.41 |$319.39 |2023-05-31|\n",
      "| BRK-B|05/30/2023|  $322.19 |3232461|$321.86 |$322.47 |$319.00 |2023-05-30|\n",
      "| BRK-B|05/26/2023|  $320.60 |3229873|$320.44 |$322.63 |$319.67 |2023-05-26|\n",
      "| BRK-B|05/25/2023|  $319.02 |4251935|$320.56 |$320.56 |$317.71 |2023-05-25|\n",
      "| BRK-B|05/24/2023|  $320.20 |3075393|$322.71 |$323.00 |$319.56 |2023-05-24|\n",
      "+------+----------+----------+-------+--------+--------+--------+----------+\n",
      "only showing top 5 rows\n",
      "\n"
     ]
    }
   ],
   "source": [
    "# aplicando a função\n",
    "# a função lambda é aplicada em cada linha da coluna Date\n",
    "stocks = stocks.withColumn(\"ParsedDate\", date_parser(stocks.Date))\n",
    "stocks.show(5)"
   ]
  },
  {
   "cell_type": "code",
   "execution_count": 14,
   "id": "d6ac2561-247f-47e4-a048-c4021cd43d1b",
   "metadata": {},
   "outputs": [
    {
     "name": "stdout",
     "output_type": "stream",
     "text": [
      "root\n",
      " |-- Ticker: string (nullable = true)\n",
      " |-- Date: string (nullable = true)\n",
      " |-- Close/Last: string (nullable = true)\n",
      " |-- Volume: string (nullable = true)\n",
      " |-- Open: string (nullable = true)\n",
      " |-- High: string (nullable = true)\n",
      " |-- Low: string (nullable = true)\n",
      " |-- ParsedDate: date (nullable = true)\n",
      "\n"
     ]
    }
   ],
   "source": [
    "stocks.printSchema()"
   ]
  },
  {
   "cell_type": "code",
   "execution_count": 15,
   "id": "9b9b4fc8-4633-415d-bb6f-caaf031596d6",
   "metadata": {},
   "outputs": [
    {
     "name": "stdout",
     "output_type": "stream",
     "text": [
      "456.89\n"
     ]
    }
   ],
   "source": [
    "# Função pra remover cifrão $\n",
    "def num_parser(value):\n",
    "    if isinstance(value, str):\n",
    "        return float(value.strip(\"$\"))\n",
    "    elif isinstance(value, int) or isinstance(value, float):\n",
    "        return value\n",
    "    else:\n",
    "        return None\n",
    "\n",
    "# teste\n",
    "print(num_parser(\"$456.89\"))"
   ]
  },
  {
   "cell_type": "code",
   "execution_count": 16,
   "id": "8b5402aa-9b90-47ef-82ac-46156d0e9e83",
   "metadata": {},
   "outputs": [
    {
     "name": "stdout",
     "output_type": "stream",
     "text": [
      "+------+----------+----------+-------+------+------+------+----------+------+\n",
      "|Ticker|      Date|Close/Last| Volume|  Open|  High|   Low|ParsedDate| Close|\n",
      "+------+----------+----------+-------+------+------+------+----------+------+\n",
      "| BRK-B|05/31/2023|  $321.08 |6175417|321.12|322.41|319.39|2023-05-31|321.08|\n",
      "| BRK-B|05/30/2023|  $322.19 |3232461|321.86|322.47| 319.0|2023-05-30|322.19|\n",
      "| BRK-B|05/26/2023|  $320.60 |3229873|320.44|322.63|319.67|2023-05-26| 320.6|\n",
      "| BRK-B|05/25/2023|  $319.02 |4251935|320.56|320.56|317.71|2023-05-25|319.02|\n",
      "| BRK-B|05/24/2023|  $320.20 |3075393|322.71| 323.0|319.56|2023-05-24| 320.2|\n",
      "| BRK-B|05/23/2023|  $323.11 |4031342|328.19|329.27|322.97|2023-05-23|323.11|\n",
      "| BRK-B|05/22/2023|  $329.13 |2763422|330.75|331.49|328.35|2023-05-22|329.13|\n",
      "| BRK-B|05/19/2023|  $330.39 |4323538| 331.0|333.94|329.12|2023-05-19|330.39|\n",
      "| BRK-B|05/18/2023|  $329.76 |2808329|326.87|329.98|325.85|2023-05-18|329.76|\n",
      "| BRK-B|05/17/2023|  $327.39 |3047626|325.02|328.26|324.82|2023-05-17|327.39|\n",
      "+------+----------+----------+-------+------+------+------+----------+------+\n",
      "only showing top 10 rows\n",
      "\n"
     ]
    }
   ],
   "source": [
    "from pyspark.sql.types import FloatType\n",
    "\n",
    "# é possível transformar em udf uma função puramente pythônica\n",
    "number_parser = udf(num_parser, FloatType())\n",
    "\n",
    "stocks = (stocks.withColumn(\"Open\", number_parser(stocks.Open))\n",
    "                .withColumn(\"Close\", number_parser(stocks[\"Close/Last\"]))\n",
    "                .withColumn(\"High\", number_parser(stocks.High))\n",
    "                .withColumn(\"Low\", number_parser(stocks.Low)))\n",
    "\n",
    "# Close/Last foi selecionada de forma diferente pois a sintaxe ñ deixa dar stocks.Close/Last\n",
    "\n",
    "stocks.show(10)"
   ]
  },
  {
   "cell_type": "code",
   "execution_count": 17,
   "id": "ab226951-b5cd-4e76-a2b7-6d5160ed619d",
   "metadata": {},
   "outputs": [
    {
     "name": "stdout",
     "output_type": "stream",
     "text": [
      "root\n",
      " |-- Ticker: string (nullable = true)\n",
      " |-- Date: string (nullable = true)\n",
      " |-- Close/Last: string (nullable = true)\n",
      " |-- Volume: string (nullable = true)\n",
      " |-- Open: float (nullable = true)\n",
      " |-- High: float (nullable = true)\n",
      " |-- Low: float (nullable = true)\n",
      " |-- ParsedDate: date (nullable = true)\n",
      " |-- Close: float (nullable = true)\n",
      "\n"
     ]
    }
   ],
   "source": [
    "stocks.printSchema()\n",
    "\n",
    "from pyspark.sql.types import IntegerType\n",
    "\n",
    "# UDF pra converter Volume pra inteiro\n",
    "integer_parser = udf(lambda num : int(num), IntegerType())"
   ]
  },
  {
   "cell_type": "code",
   "execution_count": 18,
   "id": "9bc4c512-4591-4d1b-9fc1-72c32725bda0",
   "metadata": {},
   "outputs": [
    {
     "name": "stdout",
     "output_type": "stream",
     "text": [
      "root\n",
      " |-- Ticker: string (nullable = true)\n",
      " |-- Date: string (nullable = true)\n",
      " |-- Close/Last: string (nullable = true)\n",
      " |-- Volume: integer (nullable = true)\n",
      " |-- Open: float (nullable = true)\n",
      " |-- High: float (nullable = true)\n",
      " |-- Low: float (nullable = true)\n",
      " |-- ParsedDate: date (nullable = true)\n",
      " |-- Close: float (nullable = true)\n",
      "\n"
     ]
    }
   ],
   "source": [
    "# convertendo pra int\n",
    "stocks = stocks.withColumn(\"Volume\", integer_parser(stocks.Volume))\n",
    "stocks.printSchema(5)"
   ]
  },
  {
   "cell_type": "code",
   "execution_count": 19,
   "id": "15ab2273-4053-4387-bd5d-75331e48245e",
   "metadata": {},
   "outputs": [
    {
     "name": "stdout",
     "output_type": "stream",
     "text": [
      "+------+----------+------+-------+------+------+------+\n",
      "|Ticker|ParsedDate| Close| Volume|  Open|  High|   Low|\n",
      "+------+----------+------+-------+------+------+------+\n",
      "| BRK-B|2023-05-31|321.08|6175417|321.12|322.41|319.39|\n",
      "| BRK-B|2023-05-30|322.19|3232461|321.86|322.47| 319.0|\n",
      "| BRK-B|2023-05-26| 320.6|3229873|320.44|322.63|319.67|\n",
      "| BRK-B|2023-05-25|319.02|4251935|320.56|320.56|317.71|\n",
      "| BRK-B|2023-05-24| 320.2|3075393|322.71| 323.0|319.56|\n",
      "+------+----------+------+-------+------+------+------+\n",
      "only showing top 5 rows\n",
      "\n"
     ]
    }
   ],
   "source": [
    "# removendo colunas Date e Close/Last\n",
    "stocks = stocks.select([\"Ticker\", \"ParsedDate\", \"Close\", \"Volume\", \"Open\", \"High\", \"Low\"])\n",
    "stocks.show(5)"
   ]
  },
  {
   "cell_type": "code",
   "execution_count": 20,
   "id": "83a1ab97-49d2-4ad2-9a47-644e8070c3a3",
   "metadata": {},
   "outputs": [
    {
     "name": "stdout",
     "output_type": "stream",
     "text": [
      "+-------+------------------+--------------------+------------------+------------------+------------------+\n",
      "|summary|             Close|              Volume|              Open|              High|               Low|\n",
      "+-------+------------------+--------------------+------------------+------------------+------------------+\n",
      "|  count|             15108|               15108|             15108|             15108|             15108|\n",
      "|   mean| 180.1256089860054|5.1868408793685466E7|180.09656566181036| 182.1253348687101| 177.9982781513109|\n",
      "| stddev|101.14891782168563| 5.496484129953464E7|101.16125813324399|101.96625521621753|100.26590135955216|\n",
      "|    min|             11.93|              961133|             12.07|             12.45|              11.8|\n",
      "|    max|            477.71|           914080943|            479.22|            479.98|            476.06|\n",
      "+-------+------------------+--------------------+------------------+------------------+------------------+\n",
      "\n"
     ]
    }
   ],
   "source": [
    "# Estatísticas básicas sobre os dados\n",
    "stocks.describe([\"Close\", \"Volume\", \"Open\", \"High\", \"Low\"]).show()"
   ]
  },
  {
   "cell_type": "markdown",
   "id": "2d2761c8-320b-4bea-89e4-9b6e3360768c",
   "metadata": {},
   "source": [
    "# Análise\n",
    "\n",
    "#### Estrutura dos Dados\n",
    "\n",
    "- *Ticker:* abreviação usada na bolsa para representa uma empresa\n",
    "- *Date:* data de registro dos dados, cada dia é um dia de negociação na bolsa\n",
    "- *Close:* último preço da ação no final do dia de negociação (é o valor que vemos falar quando dizem que \"A ação da empresa X fechou hoje em tanto\")\n",
    "- *Volume:* quantidade de ações que foram compradas e vendidas no dia\n",
    "- *Open:* primeiro preço da ação na abertura do mercado daquele dia\n",
    "- *High:* maior preço atingido pela ação no dia\n",
    "- *Low:* menor preço atingido pela ação no dia"
   ]
  },
  {
   "cell_type": "markdown",
   "id": "4fc7e20e-2e4c-4520-b895-627528a88d7c",
   "metadata": {},
   "source": [
    "##### Encontrar o maior preço de ação de cada empresa na abertura de mercado"
   ]
  },
  {
   "cell_type": "code",
   "execution_count": 21,
   "id": "7e78aeb7-16f6-4442-8e1b-d64795154cc4",
   "metadata": {},
   "outputs": [
    {
     "name": "stdout",
     "output_type": "stream",
     "text": [
      "+------+---------+\n",
      "|Ticker|max(Open)|\n",
      "+------+---------+\n",
      "| BRK-B|   361.39|\n",
      "|  MSFT|   344.62|\n",
      "|  META|   381.68|\n",
      "|  TSLA|   411.47|\n",
      "|  AAPL|   182.63|\n",
      "|  AMZN|    187.2|\n",
      "| GOOGL|   151.25|\n",
      "|  NVDA|   405.95|\n",
      "|     V|   250.05|\n",
      "|   TSM|   141.61|\n",
      "|   SPY|   479.22|\n",
      "|   QQQ|   405.57|\n",
      "+------+---------+\n",
      "\n"
     ]
    }
   ],
   "source": [
    "# usando métodos de dataframes\n",
    "stocks.groupBy(\"Ticker\").max(\"Open\").show(15)"
   ]
  },
  {
   "cell_type": "code",
   "execution_count": 22,
   "id": "b7cd8e2d-7822-4b5b-af52-c58d00ceade9",
   "metadata": {},
   "outputs": [
    {
     "name": "stdout",
     "output_type": "stream",
     "text": [
      "+------+-------------+\n",
      "|Ticker|MaxStockPrice|\n",
      "+------+-------------+\n",
      "| BRK-B|       361.39|\n",
      "|  MSFT|       344.62|\n",
      "|  META|       381.68|\n",
      "|  TSLA|       411.47|\n",
      "|  AAPL|       182.63|\n",
      "|  AMZN|        187.2|\n",
      "| GOOGL|       151.25|\n",
      "|  NVDA|       405.95|\n",
      "|     V|       250.05|\n",
      "|   TSM|       141.61|\n",
      "|   SPY|       479.22|\n",
      "|   QQQ|       405.57|\n",
      "+------+-------------+\n",
      "\n"
     ]
    }
   ],
   "source": [
    "# renomeando a coluna\n",
    "stocks.groupBy(\"Ticker\").max(\"Open\").withColumnRenamed(\"max(Open)\", \"MaxStockPrice\").show(15)"
   ]
  },
  {
   "cell_type": "code",
   "execution_count": 23,
   "id": "9a871485-b4a2-4dfb-b85a-1024e1883560",
   "metadata": {},
   "outputs": [
    {
     "name": "stdout",
     "output_type": "stream",
     "text": [
      "+------+-------------+\n",
      "|Ticker|MaxStockPrice|\n",
      "+------+-------------+\n",
      "| BRK-B|       361.39|\n",
      "|  MSFT|       344.62|\n",
      "|  META|       381.68|\n",
      "|  TSLA|       411.47|\n",
      "|  AAPL|       182.63|\n",
      "|  AMZN|        187.2|\n",
      "| GOOGL|       151.25|\n",
      "|  NVDA|       405.95|\n",
      "|     V|       250.05|\n",
      "|   TSM|       141.61|\n",
      "|   SPY|       479.22|\n",
      "|   QQQ|       405.57|\n",
      "+------+-------------+\n",
      "\n"
     ]
    }
   ],
   "source": [
    "import pyspark.sql.functions as func\n",
    "\n",
    "# outra forma de calcular usando agg (agregação)\n",
    "stocks.groupBy(\"Ticker\").agg(func.max(\"Open\").alias(\"MaxStockPrice\")).show(15)\n",
    "\n",
    "# a diferença entre usar ou não agg é que se for preciso usar múltiplas agregações é possível fazer\n",
    "# isso com agg sem que o códgio fique extremamente verboso, não tem impacto significativo no processamento"
   ]
  },
  {
   "cell_type": "markdown",
   "id": "d2929a0a-f040-4c53-8812-f579eed42b4c",
   "metadata": {},
   "source": [
    "##### Encontrar o volume total das ações de cada empresa junto com seu valor max"
   ]
  },
  {
   "cell_type": "code",
   "execution_count": 24,
   "id": "dcb62895-57ab-45cf-aec4-22e3bb665540",
   "metadata": {},
   "outputs": [
    {
     "name": "stdout",
     "output_type": "stream",
     "text": [
      "+------+------------+-------------+\n",
      "|Ticker| TotalVolume|MaxStockPrice|\n",
      "+------+------------+-------------+\n",
      "| BRK-B|  5862401321|       361.39|\n",
      "|  MSFT| 37976660472|       344.62|\n",
      "|  META| 30148848043|       381.68|\n",
      "|  TSLA|171802975076|       411.47|\n",
      "|  AAPL|139310061360|       182.63|\n",
      "|  AMZN|104503287430|        187.2|\n",
      "| GOOGL| 43956560981|       151.25|\n",
      "|  NVDA| 58787218324|       405.95|\n",
      "|     V| 10410997871|       250.05|\n",
      "|   TSM| 12506470104|       141.61|\n",
      "|   SPY|107925285300|       479.22|\n",
      "|   QQQ| 60437153773|       405.57|\n",
      "+------+------------+-------------+\n",
      "\n"
     ]
    }
   ],
   "source": [
    "stocks.groupBy(\"Ticker\").agg(\n",
    "                            func.sum(\"Volume\").alias(\"TotalVolume\"), \n",
    "                            func.max(\"Open\").alias(\"MaxStockPrice\")\n",
    "                            ).show()"
   ]
  },
  {
   "cell_type": "markdown",
   "id": "6032bb9c-9ba7-43de-a6ab-87c311759ab6",
   "metadata": {},
   "source": [
    "##### Extração de dia, mês e ano da coluna ParsedDate"
   ]
  },
  {
   "cell_type": "code",
   "execution_count": 39,
   "id": "22e26919-4cfe-42a2-9a96-ebc98f19b5e2",
   "metadata": {},
   "outputs": [
    {
     "name": "stdout",
     "output_type": "stream",
     "text": [
      "+------+----------+------+-------+------+------+------+----+-----+---+---------+\n",
      "|Ticker|ParsedDate| Close| Volume|  Open|  High|   Low|Year|Month|Day|Year_Week|\n",
      "+------+----------+------+-------+------+------+------+----+-----+---+---------+\n",
      "| BRK-B|2023-05-31|321.08|6175417|321.12|322.41|319.39|2023|    5| 31|       22|\n",
      "| BRK-B|2023-05-30|322.19|3232461|321.86|322.47| 319.0|2023|    5| 30|       22|\n",
      "| BRK-B|2023-05-26| 320.6|3229873|320.44|322.63|319.67|2023|    5| 26|       21|\n",
      "| BRK-B|2023-05-25|319.02|4251935|320.56|320.56|317.71|2023|    5| 25|       21|\n",
      "| BRK-B|2023-05-24| 320.2|3075393|322.71| 323.0|319.56|2023|    5| 24|       21|\n",
      "| BRK-B|2023-05-23|323.11|4031342|328.19|329.27|322.97|2023|    5| 23|       21|\n",
      "| BRK-B|2023-05-22|329.13|2763422|330.75|331.49|328.35|2023|    5| 22|       21|\n",
      "| BRK-B|2023-05-19|330.39|4323538| 331.0|333.94|329.12|2023|    5| 19|       20|\n",
      "| BRK-B|2023-05-18|329.76|2808329|326.87|329.98|325.85|2023|    5| 18|       20|\n",
      "| BRK-B|2023-05-17|327.39|3047626|325.02|328.26|324.82|2023|    5| 17|       20|\n",
      "+------+----------+------+-------+------+------+------+----+-----+---+---------+\n",
      "only showing top 10 rows\n",
      "\n"
     ]
    }
   ],
   "source": [
    "stocks = (stocks.withColumn(\"Year\", func.year(stocks.ParsedDate))\n",
    "                .withColumn(\"Month\", func.month(stocks.ParsedDate))\n",
    "                .withColumn(\"Day\", func.dayofmonth(stocks.ParsedDate))\n",
    "                .withColumn(\"Year_Week\", func.weekofyear(stocks.ParsedDate))\n",
    "         )\n",
    "\n",
    "stocks.show(10) # o spark faz lazey evaluation e só calcula de fato essas colunas novas\n",
    "                # quando o show() é usado"
   ]
  },
  {
   "cell_type": "markdown",
   "id": "52d75221-cca4-4817-bc02-766620af120e",
   "metadata": {},
   "source": [
    "##### Valores max e min de ações de cada empresa por ano"
   ]
  },
  {
   "cell_type": "code",
   "execution_count": 26,
   "id": "486069d9-f0cd-4982-b3f9-692907e3e48b",
   "metadata": {},
   "outputs": [
    {
     "name": "stdout",
     "output_type": "stream",
     "text": [
      "+------+----+---------+---------+\n",
      "|Ticker|Year|YearlyMax|YearlyMin|\n",
      "+------+----+---------+---------+\n",
      "| BRK-B|2018|    224.0|   185.43|\n",
      "|  MSFT|2018|   115.42|    95.14|\n",
      "|  META|2018|   215.72|    123.1|\n",
      "|  TSLA|2018|     25.0|    17.02|\n",
      "|  AAPL|2018|     57.7|    37.04|\n",
      "|  AMZN|2018|   101.91|     67.3|\n",
      "| GOOGL|2018|    64.46|    49.22|\n",
      "|  NVDA|2018|    72.33|    31.62|\n",
      "|     V|2018|   150.89|   122.08|\n",
      "|   TSM|2018|     45.0|    35.33|\n",
      "|   SPY|2018|   293.09|   235.97|\n",
      "|   QQQ|2018|   186.82|   145.12|\n",
      "|  META|2019|   208.67|   128.99|\n",
      "|  AMZN|2019|   101.28|    73.26|\n",
      "|  TSLA|2019|     29.0|    12.07|\n",
      "+------+----+---------+---------+\n",
      "only showing top 15 rows\n",
      "\n"
     ]
    }
   ],
   "source": [
    "stocks_yearly = stocks.groupBy([\"Ticker\", \"Year\"]).agg(func.max(\"Open\").alias(\"YearlyMax\"),\n",
    "                                     func.min(\"Open\").alias(\"YearlyMin\")).orderBy(\"Year\")\n",
    "\n",
    "stocks_yearly.show(15)"
   ]
  },
  {
   "cell_type": "markdown",
   "id": "00251e9e-49dc-4ba3-bc57-76eb8b08e8c8",
   "metadata": {},
   "source": [
    "##### Por mês"
   ]
  },
  {
   "cell_type": "code",
   "execution_count": 27,
   "id": "eaba674a-0f1f-4ee4-840f-53c33a5a7fde",
   "metadata": {},
   "outputs": [
    {
     "name": "stdout",
     "output_type": "stream",
     "text": [
      "+------+----+-----+----------+----------+\n",
      "|Ticker|Year|Month|MonthlyMax|MonthlyMin|\n",
      "+------+----+-----+----------+----------+\n",
      "|  AAPL|2018|    5|     46.81|     46.81|\n",
      "|  AMZN|2018|    5|     81.15|     81.15|\n",
      "|  META|2018|    5|    187.87|    187.87|\n",
      "|  TSLA|2018|    5|     19.15|     19.15|\n",
      "| BRK-B|2018|    5|    194.29|    194.29|\n",
      "|  MSFT|2018|    5|     99.29|     99.29|\n",
      "| GOOGL|2018|    5|      54.1|      54.1|\n",
      "|  NVDA|2018|    5|     62.93|     62.93|\n",
      "|     V|2018|    5|    130.65|    130.65|\n",
      "|   TSM|2018|    5|     38.33|     38.33|\n",
      "|   SPY|2018|    5|    272.15|    272.15|\n",
      "|   QQQ|2018|    5|    170.13|    170.13|\n",
      "|  TSLA|2018|    6|     24.34|     19.06|\n",
      "|   TSM|2018|    6|     39.85|      35.5|\n",
      "|  AAPL|2018|    6|     48.54|     45.75|\n",
      "+------+----+-----+----------+----------+\n",
      "only showing top 15 rows\n",
      "\n"
     ]
    }
   ],
   "source": [
    "stocks_monthly = stocks.groupBy([\"Ticker\", \"Year\", \"Month\"]).agg(func.max(\"Open\").alias(\"MonthlyMax\"),\n",
    "                                                                 func.min(\"Open\").alias(\"MonthlyMin\")).orderBy([\"Year\", \"Month\"])\n",
    "\n",
    "stocks_monthly.show(15)"
   ]
  },
  {
   "cell_type": "markdown",
   "id": "f60d8c15-9611-42e3-b5b5-f74c2e3a1869",
   "metadata": {},
   "source": [
    "##### Diferença entre max e min mensal"
   ]
  },
  {
   "cell_type": "code",
   "execution_count": 28,
   "id": "4499a0f4-c8f4-4ca8-9993-009b98c54408",
   "metadata": {},
   "outputs": [
    {
     "name": "stdout",
     "output_type": "stream",
     "text": [
      "+------+----+-----+----------+----------+---------+\n",
      "|Ticker|Year|Month|MonthlyMax|MonthlyMin|   Spread|\n",
      "+------+----+-----+----------+----------+---------+\n",
      "| BRK-B|2018|    5|    194.29|    194.29|      0.0|\n",
      "|  MSFT|2018|    5|     99.29|     99.29|      0.0|\n",
      "|  META|2018|    5|    187.87|    187.87|      0.0|\n",
      "|  TSLA|2018|    5|     19.15|     19.15|      0.0|\n",
      "|  AAPL|2018|    5|     46.81|     46.81|      0.0|\n",
      "|  AMZN|2018|    5|     81.15|     81.15|      0.0|\n",
      "| GOOGL|2018|    5|      54.1|      54.1|      0.0|\n",
      "|  NVDA|2018|    5|     62.93|     62.93|      0.0|\n",
      "|     V|2018|    5|    130.65|    130.65|      0.0|\n",
      "|   TSM|2018|    5|     38.33|     38.33|      0.0|\n",
      "|   SPY|2018|    5|    272.15|    272.15|      0.0|\n",
      "|   QQQ|2018|    5|    170.13|    170.13|      0.0|\n",
      "| BRK-B|2018|    6|     196.3|    185.43| 10.87001|\n",
      "|  MSFT|2018|    6|    102.65|     97.38|5.2700043|\n",
      "|  META|2018|    6|    202.76|    187.53|15.229996|\n",
      "|  AMZN|2018|    6|      88.0|     81.85|6.1500015|\n",
      "|  TSLA|2018|    6|     24.34|     19.06|5.2800007|\n",
      "|  AAPL|2018|    6|     48.54|     45.75| 2.790001|\n",
      "| GOOGL|2018|    6|     59.28|     55.62|3.6599998|\n",
      "|  NVDA|2018|    6|     66.25|     58.83| 7.419998|\n",
      "+------+----+-----+----------+----------+---------+\n",
      "only showing top 20 rows\n",
      "\n"
     ]
    }
   ],
   "source": [
    "stocks_monthly.withColumn(\"Spread\", stocks_monthly[\"MonthlyMax\"] - stocks_monthly[\"MonthlyMin\"]).show(20)"
   ]
  },
  {
   "cell_type": "markdown",
   "id": "20f0b8e1-5f9a-4506-a775-30a361eca2c0",
   "metadata": {},
   "source": [
    "#### Joins"
   ]
  },
  {
   "cell_type": "code",
   "execution_count": 29,
   "id": "0f75444a-1bc1-4097-9978-54fc832cdf34",
   "metadata": {},
   "outputs": [
    {
     "name": "stdout",
     "output_type": "stream",
     "text": [
      "+----------+------+-------+------+------+------+-----+---+---------+------+----+---------+---------+\n",
      "|ParsedDate| Close| Volume|  Open|  High|   Low|Month|Day|Year_Week|Ticker|Year|YearlyMax|YearlyMin|\n",
      "+----------+------+-------+------+------+------+-----+---+---------+------+----+---------+---------+\n",
      "|2023-05-31|321.08|6175417|321.12|322.41|319.39|    5| 31|       22| BRK-B|2023|    331.0|   294.68|\n",
      "|2023-05-30|322.19|3232461|321.86|322.47| 319.0|    5| 30|       22| BRK-B|2023|    331.0|   294.68|\n",
      "|2023-05-26| 320.6|3229873|320.44|322.63|319.67|    5| 26|       21| BRK-B|2023|    331.0|   294.68|\n",
      "|2023-05-25|319.02|4251935|320.56|320.56|317.71|    5| 25|       21| BRK-B|2023|    331.0|   294.68|\n",
      "|2023-05-24| 320.2|3075393|322.71| 323.0|319.56|    5| 24|       21| BRK-B|2023|    331.0|   294.68|\n",
      "|2023-05-23|323.11|4031342|328.19|329.27|322.97|    5| 23|       21| BRK-B|2023|    331.0|   294.68|\n",
      "|2023-05-22|329.13|2763422|330.75|331.49|328.35|    5| 22|       21| BRK-B|2023|    331.0|   294.68|\n",
      "|2023-05-19|330.39|4323538| 331.0|333.94|329.12|    5| 19|       20| BRK-B|2023|    331.0|   294.68|\n",
      "|2023-05-18|329.76|2808329|326.87|329.98|325.85|    5| 18|       20| BRK-B|2023|    331.0|   294.68|\n",
      "|2023-05-17|327.39|3047626|325.02|328.26|324.82|    5| 17|       20| BRK-B|2023|    331.0|   294.68|\n",
      "|2023-05-16|323.75|2139996|322.46|324.69|322.36|    5| 16|       20| BRK-B|2023|    331.0|   294.68|\n",
      "|2023-05-15|323.53|2191609|322.89|323.83|320.13|    5| 15|       20| BRK-B|2023|    331.0|   294.68|\n",
      "|2023-05-12|322.49|1938264|323.82|324.24|320.54|    5| 12|       19| BRK-B|2023|    331.0|   294.68|\n",
      "|2023-05-11|322.64|2549339| 321.0|322.96|319.81|    5| 11|       19| BRK-B|2023|    331.0|   294.68|\n",
      "|2023-05-10|322.99|2641134|326.08|326.16|320.15|    5| 10|       19| BRK-B|2023|    331.0|   294.68|\n",
      "|2023-05-09|324.87|2285924|324.87|326.88|323.48|    5|  9|       19| BRK-B|2023|    331.0|   294.68|\n",
      "|2023-05-08|326.14|3303393|328.26|330.69|325.79|    5|  8|       19| BRK-B|2023|    331.0|   294.68|\n",
      "|2023-05-05|323.88|3876299|323.36|325.16|322.62|    5|  5|       18| BRK-B|2023|    331.0|   294.68|\n",
      "|2023-05-04| 320.0|3194768|323.44|325.99|317.41|    5|  4|       18| BRK-B|2023|    331.0|   294.68|\n",
      "|2023-05-03|323.22|2660456|327.13|328.07|323.06|    5|  3|       18| BRK-B|2023|    331.0|   294.68|\n",
      "+----------+------+-------+------+------+------+-----+---+---------+------+----+---------+---------+\n",
      "only showing top 20 rows\n",
      "\n"
     ]
    }
   ],
   "source": [
    "# Join do dataframe original com o stocks_yearly\n",
    "# dropar também Year e Ticker de stocks_yearly\n",
    "historic_stocks = stocks.join(stocks_yearly,\n",
    "                              (stocks.Ticker == stocks_yearly.Ticker) & (stocks.Year == stocks_yearly.Year),\n",
    "                              \"inner\").drop(stocks_yearly.Year, stocks_yearly.Ticker)\n",
    "\n",
    "historic_stocks.show()"
   ]
  },
  {
   "cell_type": "code",
   "execution_count": 30,
   "id": "96f60cad-ce59-4b78-a7f2-c4e1cd9244e3",
   "metadata": {},
   "outputs": [
    {
     "name": "stdout",
     "output_type": "stream",
     "text": [
      "+----------+------+-------+------+------+------+---+---------+----+---------+---------+------+-----+----------+----------+\n",
      "|ParsedDate| Close| Volume|  Open|  High|   Low|Day|Year_Week|Year|YearlyMax|YearlyMin|Ticker|Month|MonthlyMax|MonthlyMin|\n",
      "+----------+------+-------+------+------+------+---+---------+----+---------+---------+------+-----+----------+----------+\n",
      "|2023-05-31|321.08|6175417|321.12|322.41|319.39| 31|       22|2023|    331.0|   294.68| BRK-B|    5|     331.0|    320.44|\n",
      "|2023-05-30|322.19|3232461|321.86|322.47| 319.0| 30|       22|2023|    331.0|   294.68| BRK-B|    5|     331.0|    320.44|\n",
      "|2023-05-26| 320.6|3229873|320.44|322.63|319.67| 26|       21|2023|    331.0|   294.68| BRK-B|    5|     331.0|    320.44|\n",
      "|2023-05-25|319.02|4251935|320.56|320.56|317.71| 25|       21|2023|    331.0|   294.68| BRK-B|    5|     331.0|    320.44|\n",
      "|2023-05-24| 320.2|3075393|322.71| 323.0|319.56| 24|       21|2023|    331.0|   294.68| BRK-B|    5|     331.0|    320.44|\n",
      "|2023-05-23|323.11|4031342|328.19|329.27|322.97| 23|       21|2023|    331.0|   294.68| BRK-B|    5|     331.0|    320.44|\n",
      "|2023-05-22|329.13|2763422|330.75|331.49|328.35| 22|       21|2023|    331.0|   294.68| BRK-B|    5|     331.0|    320.44|\n",
      "|2023-05-19|330.39|4323538| 331.0|333.94|329.12| 19|       20|2023|    331.0|   294.68| BRK-B|    5|     331.0|    320.44|\n",
      "|2023-05-18|329.76|2808329|326.87|329.98|325.85| 18|       20|2023|    331.0|   294.68| BRK-B|    5|     331.0|    320.44|\n",
      "|2023-05-17|327.39|3047626|325.02|328.26|324.82| 17|       20|2023|    331.0|   294.68| BRK-B|    5|     331.0|    320.44|\n",
      "|2023-05-16|323.75|2139996|322.46|324.69|322.36| 16|       20|2023|    331.0|   294.68| BRK-B|    5|     331.0|    320.44|\n",
      "|2023-05-15|323.53|2191609|322.89|323.83|320.13| 15|       20|2023|    331.0|   294.68| BRK-B|    5|     331.0|    320.44|\n",
      "|2023-05-12|322.49|1938264|323.82|324.24|320.54| 12|       19|2023|    331.0|   294.68| BRK-B|    5|     331.0|    320.44|\n",
      "|2023-05-11|322.64|2549339| 321.0|322.96|319.81| 11|       19|2023|    331.0|   294.68| BRK-B|    5|     331.0|    320.44|\n",
      "|2023-05-10|322.99|2641134|326.08|326.16|320.15| 10|       19|2023|    331.0|   294.68| BRK-B|    5|     331.0|    320.44|\n",
      "|2023-05-09|324.87|2285924|324.87|326.88|323.48|  9|       19|2023|    331.0|   294.68| BRK-B|    5|     331.0|    320.44|\n",
      "|2023-05-08|326.14|3303393|328.26|330.69|325.79|  8|       19|2023|    331.0|   294.68| BRK-B|    5|     331.0|    320.44|\n",
      "|2023-05-05|323.88|3876299|323.36|325.16|322.62|  5|       18|2023|    331.0|   294.68| BRK-B|    5|     331.0|    320.44|\n",
      "|2023-05-04| 320.0|3194768|323.44|325.99|317.41|  4|       18|2023|    331.0|   294.68| BRK-B|    5|     331.0|    320.44|\n",
      "|2023-05-03|323.22|2660456|327.13|328.07|323.06|  3|       18|2023|    331.0|   294.68| BRK-B|    5|     331.0|    320.44|\n",
      "+----------+------+-------+------+------+------+---+---------+----+---------+---------+------+-----+----------+----------+\n",
      "only showing top 20 rows\n",
      "\n"
     ]
    }
   ],
   "source": [
    "# Join com stocks_monthly\n",
    "condition = [(historic_stocks.Ticker == stocks_monthly.Ticker) & (historic_stocks.Year == stocks_monthly.Year) & (historic_stocks.Month == stocks_monthly.Month)]\n",
    "\n",
    "# a condição do join pode ser armazenada numa variável e usada no método join\n",
    "historic_stocks = (historic_stocks.join(stocks_monthly, condition, \"inner\")\n",
    "                   .drop(stocks_monthly.Month, stocks_monthly.Year, historic_stocks.Ticker))\n",
    "\n",
    "historic_stocks.show()"
   ]
  },
  {
   "cell_type": "code",
   "execution_count": 31,
   "id": "605f27b2-3db7-4211-be71-04b1ece45fb8",
   "metadata": {},
   "outputs": [
    {
     "data": {
      "text/plain": [
       "['ParsedDate',\n",
       " 'Close',\n",
       " 'Volume',\n",
       " 'Open',\n",
       " 'High',\n",
       " 'Low',\n",
       " 'Day',\n",
       " 'Year_Week',\n",
       " 'Year',\n",
       " 'YearlyMax',\n",
       " 'YearlyMin',\n",
       " 'Ticker',\n",
       " 'Month',\n",
       " 'MonthlyMax',\n",
       " 'MonthlyMin']"
      ]
     },
     "execution_count": 31,
     "metadata": {},
     "output_type": "execute_result"
    }
   ],
   "source": [
    "historic_stocks.columns"
   ]
  },
  {
   "cell_type": "code",
   "execution_count": 32,
   "id": "c43aa8c6-4a0b-4f53-9c04-9285a5485efa",
   "metadata": {},
   "outputs": [
    {
     "name": "stdout",
     "output_type": "stream",
     "text": [
      "+------+----+-----+---+-------+------+------+------+------+---------+---------+----------+----------+\n",
      "|Ticker|Year|Month|Day| Volume|  Open|   Low|  High| Close|YearlyMax|YearlyMin|MonthlyMax|MonthlyMin|\n",
      "+------+----+-----+---+-------+------+------+------+------+---------+---------+----------+----------+\n",
      "| BRK-B|2023|    5| 31|6175417|321.12|319.39|322.41|321.08|    331.0|   294.68|     331.0|    320.44|\n",
      "| BRK-B|2023|    5| 30|3232461|321.86| 319.0|322.47|322.19|    331.0|   294.68|     331.0|    320.44|\n",
      "| BRK-B|2023|    5| 26|3229873|320.44|319.67|322.63| 320.6|    331.0|   294.68|     331.0|    320.44|\n",
      "| BRK-B|2023|    5| 25|4251935|320.56|317.71|320.56|319.02|    331.0|   294.68|     331.0|    320.44|\n",
      "| BRK-B|2023|    5| 24|3075393|322.71|319.56| 323.0| 320.2|    331.0|   294.68|     331.0|    320.44|\n",
      "| BRK-B|2023|    5| 23|4031342|328.19|322.97|329.27|323.11|    331.0|   294.68|     331.0|    320.44|\n",
      "| BRK-B|2023|    5| 22|2763422|330.75|328.35|331.49|329.13|    331.0|   294.68|     331.0|    320.44|\n",
      "| BRK-B|2023|    5| 19|4323538| 331.0|329.12|333.94|330.39|    331.0|   294.68|     331.0|    320.44|\n",
      "| BRK-B|2023|    5| 18|2808329|326.87|325.85|329.98|329.76|    331.0|   294.68|     331.0|    320.44|\n",
      "| BRK-B|2023|    5| 17|3047626|325.02|324.82|328.26|327.39|    331.0|   294.68|     331.0|    320.44|\n",
      "| BRK-B|2023|    5| 16|2139996|322.46|322.36|324.69|323.75|    331.0|   294.68|     331.0|    320.44|\n",
      "| BRK-B|2023|    5| 15|2191609|322.89|320.13|323.83|323.53|    331.0|   294.68|     331.0|    320.44|\n",
      "| BRK-B|2023|    5| 12|1938264|323.82|320.54|324.24|322.49|    331.0|   294.68|     331.0|    320.44|\n",
      "| BRK-B|2023|    5| 11|2549339| 321.0|319.81|322.96|322.64|    331.0|   294.68|     331.0|    320.44|\n",
      "| BRK-B|2023|    5| 10|2641134|326.08|320.15|326.16|322.99|    331.0|   294.68|     331.0|    320.44|\n",
      "| BRK-B|2023|    5|  9|2285924|324.87|323.48|326.88|324.87|    331.0|   294.68|     331.0|    320.44|\n",
      "| BRK-B|2023|    5|  8|3303393|328.26|325.79|330.69|326.14|    331.0|   294.68|     331.0|    320.44|\n",
      "| BRK-B|2023|    5|  5|3876299|323.36|322.62|325.16|323.88|    331.0|   294.68|     331.0|    320.44|\n",
      "| BRK-B|2023|    5|  4|3194768|323.44|317.41|325.99| 320.0|    331.0|   294.68|     331.0|    320.44|\n",
      "| BRK-B|2023|    5|  3|2660456|327.13|323.06|328.07|323.22|    331.0|   294.68|     331.0|    320.44|\n",
      "+------+----+-----+---+-------+------+------+------+------+---------+---------+----------+----------+\n",
      "only showing top 20 rows\n",
      "\n"
     ]
    }
   ],
   "source": [
    "# pra ordenar as colunas\n",
    "final_stocks = historic_stocks.select(['Ticker', 'Year', 'Month', 'Day', 'Volume', 'Open','Low', 'High',\n",
    "                                       'Close', 'YearlyMax', 'YearlyMin', 'MonthlyMax', 'MonthlyMin'])\n",
    "\n",
    "final_stocks.show()"
   ]
  },
  {
   "cell_type": "markdown",
   "id": "f6af914b-159f-4c8e-813c-6c7b815a1e34",
   "metadata": {},
   "source": [
    "#### Query com spark SQL"
   ]
  },
  {
   "cell_type": "code",
   "execution_count": 33,
   "id": "c58fb260-881b-4448-9ec5-0f620e99272f",
   "metadata": {},
   "outputs": [],
   "source": [
    "# só é possível usar SQL em tabelas, em dataframes não funciona\n",
    "# pra isso é preciso criar uma temp view a partir do dataframe desejado\n",
    "final_stocks.createOrReplaceTempView('stockData')"
   ]
  },
  {
   "cell_type": "code",
   "execution_count": 34,
   "id": "75fd47d5-ae98-4349-be32-cc9a722de0a3",
   "metadata": {},
   "outputs": [
    {
     "name": "stdout",
     "output_type": "stream",
     "text": [
      "+------+----+-----+---+--------+------+------+------+------+---------+---------+----------+----------+\n",
      "|Ticker|Year|Month|Day|  Volume|  Open|   Low|  High| Close|YearlyMax|YearlyMin|MonthlyMax|MonthlyMin|\n",
      "+------+----+-----+---+--------+------+------+------+------+---------+---------+----------+----------+\n",
      "|  MSFT|2023|    5| 31|45950550|332.29|327.33|335.94|328.39|   335.23|    223.0|    335.23|    305.72|\n",
      "|  MSFT|2023|    5| 30|29503070|335.23|330.52|335.74|331.21|   335.23|    223.0|    335.23|    305.72|\n",
      "|  MSFT|2023|    5| 26|36630630|324.02|323.88| 333.4|332.89|   335.23|    223.0|    335.23|    305.72|\n",
      "|  MSFT|2023|    5| 25|43301740|323.24| 320.0| 326.9|325.92|   335.23|    223.0|    335.23|    305.72|\n",
      "|  MSFT|2023|    5| 24|23384890|314.73|312.61| 316.5|313.85|   335.23|    223.0|    335.23|    305.72|\n",
      "|  MSFT|2023|    5| 23|30797170|320.03|315.25|322.72|315.26|   335.23|    223.0|    335.23|    305.72|\n",
      "|  MSFT|2023|    5| 22|24115660| 318.6|318.01|322.59|321.18|   335.23|    223.0|    335.23|    305.72|\n",
      "|  MSFT|2023|    5| 19|27546700|316.74|316.37|318.75|318.34|   335.23|    223.0|    335.23|    305.72|\n",
      "|  MSFT|2023|    5| 18|27275990|314.53|313.72|319.04|318.52|   335.23|    223.0|    335.23|    305.72|\n",
      "|  MSFT|2023|    5| 17|24315010|312.29|310.74|314.43| 314.0|   335.23|    223.0|    335.23|    305.72|\n",
      "|  MSFT|2023|    5| 16|26730350|309.83|309.83|313.71|311.74|   335.23|    223.0|    335.23|    305.72|\n",
      "|  MSFT|2023|    5| 15|16336550| 309.1|307.59|309.91|309.46|   335.23|    223.0|    335.23|    305.72|\n",
      "|  MSFT|2023|    5| 12|19774700|310.55| 306.6|310.65|308.97|   335.23|    223.0|    335.23|    305.72|\n",
      "|  MSFT|2023|    5| 11|31680180| 310.1|306.26|311.12|310.11|   335.23|    223.0|    335.23|    305.72|\n",
      "|  MSFT|2023|    5| 10|30078040|308.62|307.67| 313.0|312.31|   335.23|    223.0|    335.23|    305.72|\n",
      "|  MSFT|2023|    5|  9|21340830| 308.0|306.31|310.04| 307.0|   335.23|    223.0|    335.23|    305.72|\n",
      "|  MSFT|2023|    5|  8|21318610|310.13|306.09| 310.2|308.65|   335.23|    223.0|    335.23|    305.72|\n",
      "|  MSFT|2023|    5|  5|28197050|305.72|304.27|311.97|310.65|   335.23|    223.0|    335.23|    305.72|\n",
      "|  MSFT|2023|    5|  4|22519910|306.24| 303.4|307.76|305.41|   335.23|    223.0|    335.23|    305.72|\n",
      "|  MSFT|2023|    5|  3|22360750|306.62|304.09|308.61| 304.4|   335.23|    223.0|    335.23|    305.72|\n",
      "+------+----+-----+---+--------+------+------+------+------+---------+---------+----------+----------+\n",
      "only showing top 20 rows\n",
      "\n"
     ]
    }
   ],
   "source": [
    "spark.sql(\"select * from stockData where Ticker = 'MSFT' and Year = '2023' \").show()"
   ]
  },
  {
   "cell_type": "markdown",
   "id": "627b9b73-9a4f-47c1-93d0-969404bb4809",
   "metadata": {},
   "source": [
    "#### Análises com Window Functions"
   ]
  },
  {
   "cell_type": "code",
   "execution_count": 41,
   "id": "db1553cd-1bba-4314-a8fd-090ba9eada51",
   "metadata": {},
   "outputs": [],
   "source": [
    "# pra análise só com algumas colunas\n",
    "snapshot = historic_stocks.select(['Ticker', 'ParsedDate', 'Open'])"
   ]
  },
  {
   "cell_type": "code",
   "execution_count": 42,
   "id": "39271d6d-6cec-4049-ba14-79cd5010a942",
   "metadata": {},
   "outputs": [
    {
     "name": "stdout",
     "output_type": "stream",
     "text": [
      "+------+----------+------+\n",
      "|Ticker|ParsedDate|  Open|\n",
      "+------+----------+------+\n",
      "| BRK-B|2023-05-31|321.12|\n",
      "| BRK-B|2023-05-30|321.86|\n",
      "| BRK-B|2023-05-26|320.44|\n",
      "| BRK-B|2023-05-25|320.56|\n",
      "| BRK-B|2023-05-24|322.71|\n",
      "| BRK-B|2023-05-23|328.19|\n",
      "| BRK-B|2023-05-22|330.75|\n",
      "| BRK-B|2023-05-19| 331.0|\n",
      "| BRK-B|2023-05-18|326.87|\n",
      "| BRK-B|2023-05-17|325.02|\n",
      "| BRK-B|2023-05-16|322.46|\n",
      "| BRK-B|2023-05-15|322.89|\n",
      "| BRK-B|2023-05-12|323.82|\n",
      "| BRK-B|2023-05-11| 321.0|\n",
      "| BRK-B|2023-05-10|326.08|\n",
      "| BRK-B|2023-05-09|324.87|\n",
      "| BRK-B|2023-05-08|328.26|\n",
      "| BRK-B|2023-05-05|323.36|\n",
      "| BRK-B|2023-05-04|323.44|\n",
      "| BRK-B|2023-05-03|327.13|\n",
      "+------+----------+------+\n",
      "only showing top 20 rows\n",
      "\n"
     ]
    }
   ],
   "source": [
    "snapshot.show()"
   ]
  },
  {
   "cell_type": "code",
   "execution_count": 43,
   "id": "358e2837-c5e0-49cd-a14d-0aca6d3e7676",
   "metadata": {},
   "outputs": [],
   "source": [
    "# Window Functions\n",
    "from pyspark.sql.window import Window\n",
    "\n",
    "# definimos as janelas de dados (particionamento)\n",
    "# cada partição será ordenada de forma cerscente pela data\n",
    "lag1Day = Window.partitionBy('Ticker').orderBy('ParsedDate')"
   ]
  },
  {
   "cell_type": "code",
   "execution_count": 44,
   "id": "de44e00e-8166-4dcc-8a86-2d5e5fc4abfd",
   "metadata": {},
   "outputs": [
    {
     "name": "stdout",
     "output_type": "stream",
     "text": [
      "+------+----------+-----+------------+\n",
      "|Ticker|ParsedDate| Open|PreviousOpen|\n",
      "+------+----------+-----+------------+\n",
      "|  AAPL|2018-05-31|46.81|        NULL|\n",
      "|  AAPL|2018-06-01| 47.0|       46.81|\n",
      "|  AAPL|2018-06-04|47.91|        47.0|\n",
      "|  AAPL|2018-06-05|48.27|       47.91|\n",
      "|  AAPL|2018-06-06|48.41|       48.27|\n",
      "|  AAPL|2018-06-07|48.54|       48.41|\n",
      "|  AAPL|2018-06-08|47.79|       48.54|\n",
      "|  AAPL|2018-06-11|47.84|       47.79|\n",
      "|  AAPL|2018-06-12|47.85|       47.84|\n",
      "|  AAPL|2018-06-13|48.11|       47.85|\n",
      "|  AAPL|2018-06-14|47.89|       48.11|\n",
      "|  AAPL|2018-06-15|47.51|       47.89|\n",
      "|  AAPL|2018-06-18|46.97|       47.51|\n",
      "|  AAPL|2018-06-19|46.29|       46.97|\n",
      "|  AAPL|2018-06-20|46.59|       46.29|\n",
      "|  AAPL|2018-06-21|46.81|       46.59|\n",
      "|  AAPL|2018-06-22|46.53|       46.81|\n",
      "|  AAPL|2018-06-25|45.85|       46.53|\n",
      "|  AAPL|2018-06-26|45.75|       45.85|\n",
      "|  AAPL|2018-06-27|46.31|       45.75|\n",
      "+------+----------+-----+------------+\n",
      "only showing top 20 rows\n",
      "\n"
     ]
    }
   ],
   "source": [
    "# LAG DO DIA ANTERIOR\n",
    "\n",
    "# aplicamos a window function LAG na coluna Open, LAG obtém o valor de 1 linha anterior da coluna Open\n",
    "# e põe esse valor na coluna PreviousOpen, aplicando nas janelas de dados que definimos\n",
    "snapshot.withColumn('PreviousOpen', func.lag(\"Open\", 1).over(lag1Day)).show()"
   ]
  },
  {
   "cell_type": "code",
   "execution_count": 47,
   "id": "e7488f0d-6e9e-48b7-aad3-7d9fdd2192d3",
   "metadata": {},
   "outputs": [
    {
     "name": "stdout",
     "output_type": "stream",
     "text": [
      "+------+----------+-----+-----+\n",
      "|Ticker|ParsedDate| Open| MA50|\n",
      "+------+----------+-----+-----+\n",
      "|  AAPL|2018-05-31|46.81|46.81|\n",
      "|  AAPL|2018-06-01| 47.0|46.91|\n",
      "|  AAPL|2018-06-04|47.91|47.24|\n",
      "|  AAPL|2018-06-05|48.27| 47.5|\n",
      "|  AAPL|2018-06-06|48.41|47.68|\n",
      "|  AAPL|2018-06-07|48.54|47.82|\n",
      "|  AAPL|2018-06-08|47.79|47.82|\n",
      "|  AAPL|2018-06-11|47.84|47.82|\n",
      "|  AAPL|2018-06-12|47.85|47.82|\n",
      "|  AAPL|2018-06-13|48.11|47.85|\n",
      "|  AAPL|2018-06-14|47.89|47.86|\n",
      "|  AAPL|2018-06-15|47.51|47.83|\n",
      "|  AAPL|2018-06-18|46.97|47.76|\n",
      "|  AAPL|2018-06-19|46.29|47.66|\n",
      "|  AAPL|2018-06-20|46.59|47.59|\n",
      "|  AAPL|2018-06-21|46.81|47.54|\n",
      "|  AAPL|2018-06-22|46.53|47.48|\n",
      "|  AAPL|2018-06-25|45.85|47.39|\n",
      "|  AAPL|2018-06-26|45.75| 47.3|\n",
      "|  AAPL|2018-06-27|46.31|47.25|\n",
      "+------+----------+-----+-----+\n",
      "only showing top 20 rows\n",
      "\n"
     ]
    }
   ],
   "source": [
    "# MÉDIA DAS LINHAS ANTERIORES\n",
    "\n",
    "# rowsBetween pega o valor das 50 linhas anteriores (incluindo a atual) à linha atual\n",
    "moving_average = Window.partitionBy('Ticker').orderBy('ParsedDate').rowsBetween(-50, 0)\n",
    "\n",
    "# aplica a função da média nas 50 linhas anteriores & linha atual e coloca esse valor na nova coluna MA50\n",
    "(snapshot.withColumn('MA50', func.avg('Open').over(moving_average))\n",
    "        .withColumn('MA50', func.round('MA50', 2)).show()) # arredondar pra 2 casas decimais"
   ]
  },
  {
   "cell_type": "code",
   "execution_count": 50,
   "id": "637d6a15-ca04-4512-a433-3e2ad813ea96",
   "metadata": {},
   "outputs": [],
   "source": [
    "# MAIORES VALORES DE OPEN\n",
    "\n",
    "# particiona pelo Ticker e ordena pelo Open decrescente\n",
    "maximum_stock = Window.partitionBy('Ticker').orderBy(snapshot.Open.desc())"
   ]
  },
  {
   "cell_type": "code",
   "execution_count": 53,
   "id": "883edba6-0cb9-4f6f-9a1e-0ae6478902a5",
   "metadata": {},
   "outputs": [
    {
     "name": "stdout",
     "output_type": "stream",
     "text": [
      "+------+----------+------+-------+\n",
      "|Ticker|ParsedDate|  Open|MaxOpen|\n",
      "+------+----------+------+-------+\n",
      "|  AAPL|2022-01-04|182.63|      1|\n",
      "|  AAPL|2021-12-13|181.12|      2|\n",
      "|  AAPL|2021-12-28|180.16|      3|\n",
      "|  AAPL|2022-01-05|179.61|      4|\n",
      "|  AAPL|2021-12-30|179.47|      5|\n",
      "|  AAPL|2021-12-29|179.33|      6|\n",
      "|  AAPL|2021-12-16|179.28|      7|\n",
      "|  AAPL|2022-03-30|178.55|      8|\n",
      "|  AAPL|2021-12-31|178.09|      9|\n",
      "|  AAPL|2022-03-31|177.84|     10|\n",
      "|  AAPL|2022-01-03|177.83|     11|\n",
      "|  AAPL|2022-04-05| 177.5|     12|\n",
      "|  AAPL|2023-05-31|177.33|     13|\n",
      "|  AAPL|2021-12-27|177.09|     14|\n",
      "|  AAPL|2023-05-30|176.96|     15|\n",
      "|  AAPL|2022-03-29|176.69|     16|\n",
      "|  AAPL|2023-05-19|176.39|     17|\n",
      "|  AAPL|2022-01-12|176.12|     18|\n",
      "|  AAPL|2022-02-09|176.05|     19|\n",
      "|  AAPL|2021-12-23|175.85|     20|\n",
      "+------+----------+------+-------+\n",
      "only showing top 20 rows\n",
      "\n"
     ]
    }
   ],
   "source": [
    "# aplica a função row_number nas janelas de dados, ou seja, como Open é decrescente os maiores valores\n",
    "# vão estar nas primeiras linhas, e suas posições (do valor mais alto pro mais baixo) serão indicadas pelo\n",
    "# row number para cada janela de dado (cada Ticker)\n",
    "snapshot.withColumn('MaxOpen', func.row_number().over(maximum_stock)).show()"
   ]
  },
  {
   "cell_type": "code",
   "execution_count": 63,
   "id": "2d1e9fff-4d8a-42b1-a649-e088c09e608f",
   "metadata": {},
   "outputs": [
    {
     "name": "stdout",
     "output_type": "stream",
     "text": [
      "+------+----------+------+-------+\n",
      "|Ticker|ParsedDate|  Open|MaxOpen|\n",
      "+------+----------+------+-------+\n",
      "|  AAPL|2022-01-04|182.63|      1|\n",
      "|  AAPL|2021-12-13|181.12|      2|\n",
      "|  AAPL|2021-12-28|180.16|      3|\n",
      "|  AAPL|2022-01-05|179.61|      4|\n",
      "|  AAPL|2021-12-30|179.47|      5|\n",
      "|  AMZN|2021-07-12| 187.2|      1|\n",
      "|  AMZN|2021-07-09|186.13|      2|\n",
      "|  AMZN|2021-07-07|185.87|      3|\n",
      "|  AMZN|2021-11-19|185.63|      4|\n",
      "|  AMZN|2021-07-14|185.44|      5|\n",
      "| BRK-B|2022-03-29|361.39|      1|\n",
      "| BRK-B|2022-03-28|360.59|      2|\n",
      "| BRK-B|2022-03-31| 359.0|      3|\n",
      "| BRK-B|2022-03-30|354.66|      4|\n",
      "| BRK-B|2022-03-25| 353.9|      5|\n",
      "| GOOGL|2022-02-02|151.25|      1|\n",
      "| GOOGL|2021-11-19|149.98|      2|\n",
      "| GOOGL|2021-11-08|149.83|      3|\n",
      "| GOOGL|2021-11-22|149.33|      4|\n",
      "| GOOGL|2021-11-09|149.23|      5|\n",
      "+------+----------+------+-------+\n",
      "only showing top 20 rows\n",
      "\n"
     ]
    }
   ],
   "source": [
    "# mesma coisa mas pra exibir os 5 maiores valores\n",
    "result = snapshot.withColumn('MaxOpen', func.row_number().over(maximum_stock)).filter('MaxOpen<=5')\n",
    "result.show()"
   ]
  },
  {
   "cell_type": "markdown",
   "id": "71b3443a-8f2c-4626-a1e8-87e0de056df2",
   "metadata": {},
   "source": [
    "### Armazenamento"
   ]
  },
  {
   "cell_type": "code",
   "execution_count": 64,
   "id": "a64c1664-1d73-432b-b1ce-5ee26f96cc7c",
   "metadata": {},
   "outputs": [],
   "source": [
    "# CSV vs PARQUET vs AVRO\n",
    "\n",
    "# CSV não é colunar nem tem schema definido, mas é passível de compressão e legível por humanos\n",
    "# Avro é passível de compressão e tem schema definido, mas não é colunar e nem legível por humanos\n",
    "# Parquet é colunar, passível de compressão e possui schema definido mas não é legível por humanos\n",
    "\n",
    "# Também há outros formatos como Text, ORC e JSON  \n",
    "\n",
    "# salvando o dataframe em PARQUET\n",
    "(result.write.option('header', True)\n",
    "             .partitionBy('Ticker', 'ParsedDate')\n",
    "             .mode('overwrite')\n",
    "             .parquet('result_parquet') #nome da pasta onde os arquivos .parquet serão salvos\n",
    ")"
   ]
  },
  {
   "cell_type": "code",
   "execution_count": 65,
   "id": "6e6a7dd1-d6c8-433b-939e-a3918d44f75c",
   "metadata": {},
   "outputs": [],
   "source": [
    "# salvando o dataframe em CSV\n",
    "(result.write.option('header', True)\n",
    "             .partitionBy('Ticker')\n",
    "             .mode('overwrite')\n",
    "             .csv('result_csv')\n",
    ")"
   ]
  },
  {
   "cell_type": "code",
   "execution_count": null,
   "id": "b2bc91db-b450-4010-9b49-36e0ec3f142a",
   "metadata": {},
   "outputs": [],
   "source": []
  }
 ],
 "metadata": {
  "kernelspec": {
   "display_name": "Python 3 (ipykernel)",
   "language": "python",
   "name": "python3"
  },
  "language_info": {
   "codemirror_mode": {
    "name": "ipython",
    "version": 3
   },
   "file_extension": ".py",
   "mimetype": "text/x-python",
   "name": "python",
   "nbconvert_exporter": "python",
   "pygments_lexer": "ipython3",
   "version": "3.11.6"
  }
 },
 "nbformat": 4,
 "nbformat_minor": 5
}
